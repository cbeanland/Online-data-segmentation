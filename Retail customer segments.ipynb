{
 "cells": [
  {
   "cell_type": "markdown",
   "metadata": {},
   "source": [
    "In this programme we want to create segments of customers based on relevant buying behaviour. We are using a data set from here: http://archive.ics.uci.edu/ml/machine-learning-databases/00352/\n",
    "More info on the data set can be found here: http://archive.ics.uci.edu/ml/datasets/Online+Retail\n",
    "\n",
    "Each transaction has a customer ID and then associated information on that purchase such as price and quantity of products bought"
   ]
  },
  {
   "cell_type": "code",
   "execution_count": 130,
   "metadata": {},
   "outputs": [
    {
     "data": {
      "text/html": [
       "<div>\n",
       "<style>\n",
       "    .dataframe thead tr:only-child th {\n",
       "        text-align: right;\n",
       "    }\n",
       "\n",
       "    .dataframe thead th {\n",
       "        text-align: left;\n",
       "    }\n",
       "\n",
       "    .dataframe tbody tr th {\n",
       "        vertical-align: top;\n",
       "    }\n",
       "</style>\n",
       "<table border=\"1\" class=\"dataframe\">\n",
       "  <thead>\n",
       "    <tr style=\"text-align: right;\">\n",
       "      <th></th>\n",
       "      <th>CustomerID</th>\n",
       "      <th>total spend</th>\n",
       "      <th>No. of purchases</th>\n",
       "      <th>Average value of purchase</th>\n",
       "    </tr>\n",
       "  </thead>\n",
       "  <tbody>\n",
       "    <tr>\n",
       "      <th>count</th>\n",
       "      <td>4372.000000</td>\n",
       "      <td>4372.000000</td>\n",
       "      <td>4372.000000</td>\n",
       "      <td>4372.000000</td>\n",
       "    </tr>\n",
       "    <tr>\n",
       "      <th>mean</th>\n",
       "      <td>15299.677722</td>\n",
       "      <td>322.008226</td>\n",
       "      <td>93.053294</td>\n",
       "      <td>7.978683</td>\n",
       "    </tr>\n",
       "    <tr>\n",
       "      <th>std</th>\n",
       "      <td>1722.390705</td>\n",
       "      <td>1284.783098</td>\n",
       "      <td>232.471608</td>\n",
       "      <td>144.963316</td>\n",
       "    </tr>\n",
       "    <tr>\n",
       "      <th>min</th>\n",
       "      <td>12346.000000</td>\n",
       "      <td>0.000000</td>\n",
       "      <td>1.000000</td>\n",
       "      <td>0.000000</td>\n",
       "    </tr>\n",
       "    <tr>\n",
       "      <th>25%</th>\n",
       "      <td>13812.750000</td>\n",
       "      <td>52.865000</td>\n",
       "      <td>17.000000</td>\n",
       "      <td>2.220000</td>\n",
       "    </tr>\n",
       "    <tr>\n",
       "      <th>50%</th>\n",
       "      <td>15300.500000</td>\n",
       "      <td>130.095000</td>\n",
       "      <td>42.000000</td>\n",
       "      <td>2.940000</td>\n",
       "    </tr>\n",
       "    <tr>\n",
       "      <th>75%</th>\n",
       "      <td>16778.250000</td>\n",
       "      <td>302.332500</td>\n",
       "      <td>102.000000</td>\n",
       "      <td>3.900000</td>\n",
       "    </tr>\n",
       "    <tr>\n",
       "      <th>max</th>\n",
       "      <td>18287.000000</td>\n",
       "      <td>41376.330000</td>\n",
       "      <td>7983.000000</td>\n",
       "      <td>8055.780000</td>\n",
       "    </tr>\n",
       "  </tbody>\n",
       "</table>\n",
       "</div>"
      ],
      "text/plain": [
       "         CustomerID   total spend  No. of purchases  Average value of purchase\n",
       "count   4372.000000   4372.000000       4372.000000                4372.000000\n",
       "mean   15299.677722    322.008226         93.053294                   7.978683\n",
       "std     1722.390705   1284.783098        232.471608                 144.963316\n",
       "min    12346.000000      0.000000          1.000000                   0.000000\n",
       "25%    13812.750000     52.865000         17.000000                   2.220000\n",
       "50%    15300.500000    130.095000         42.000000                   2.940000\n",
       "75%    16778.250000    302.332500        102.000000                   3.900000\n",
       "max    18287.000000  41376.330000       7983.000000                8055.780000"
      ]
     },
     "execution_count": 130,
     "metadata": {},
     "output_type": "execute_result"
    }
   ],
   "source": [
    "import tensorflow as tf\n",
    "import pandas as pd\n",
    "import numpy as np\n",
    "import json\n",
    "import itertools\n",
    "from sklearn.mixture import GMM\n",
    "from sklearn.cluster import KMeans\n",
    "from sklearn.metrics import silhouette_score\n",
    "\n",
    "#Import the data file as a matrix\n",
    "try:\n",
    "    datafile = pd.read_csv('Retail_Data.csv')\n",
    "except:\n",
    "    print(\"The data cannot load\")\n",
    "\n",
    "#Create a placeholder for the no of segments we want to create\n",
    "no_clusters = tf.placeholder(tf.float32, name = 'no_clusters')\n",
    "\n",
    "#View basic info about the data\n",
    "stats = datafile.describe()\n",
    "stats\n",
    "\n"
   ]
  },
  {
   "cell_type": "code",
   "execution_count": 27,
   "metadata": {},
   "outputs": [
    {
     "name": "stdout",
     "output_type": "stream",
     "text": [
      "      CustomerID  total spend  No. of purchases  Average value of purchase\n",
      "1          13047       798.30               196                       4.07\n",
      "20         13408      1614.50               501                       3.22\n",
      "58         15485       273.62                86                       3.18\n",
      "287        17059      1371.39               516                       2.66\n",
      "1025       15059       754.77               239                       3.16\n",
      "4000       13607       308.76                98                       3.15\n"
     ]
    }
   ],
   "source": [
    "#Select a number of data examples to view\n",
    "samples = datafile.loc[[1,20,58, 287, 1025, 4000],:]\n",
    "print(samples)"
   ]
  },
  {
   "cell_type": "code",
   "execution_count": 28,
   "metadata": {},
   "outputs": [
    {
     "name": "stdout",
     "output_type": "stream",
     "text": [
      "Index(['CustomerID', 'total spend', 'No. of purchases',\n",
      "       'Average value of purchase'],\n",
      "      dtype='object')\n"
     ]
    }
   ],
   "source": [
    "#Get the titles of the columns\n",
    "column_names = datafile.columns\n",
    "print(column_names)\n"
   ]
  },
  {
   "cell_type": "code",
   "execution_count": 30,
   "metadata": {},
   "outputs": [
    {
     "name": "stdout",
     "output_type": "stream",
     "text": [
      "      CustomerID  total spend  No. of purchases  Average value of purchase\n",
      "1       9.476314     6.682484          5.278115                   1.403643\n",
      "20      9.503607     7.386781          6.216606                   1.169381\n",
      "58      9.647627     5.611740          4.454347                   1.156881\n",
      "287     9.744433     7.223580          6.246107                   0.978326\n",
      "1025    9.619731     6.626413          5.476464                   1.150572\n",
      "4000    9.518340     5.732564          4.584967                   1.147402\n"
     ]
    },
    {
     "name": "stderr",
     "output_type": "stream",
     "text": [
      "/anaconda3/lib/python3.6/site-packages/ipykernel_launcher.py:2: RuntimeWarning: divide by zero encountered in log\n",
      "  \n"
     ]
    }
   ],
   "source": [
    "#Apply log scale to the datat so it has a better distribution\n",
    "log_data = np.log(datafile)\n",
    "log_samples = np.log(samples)\n",
    "print(log_samples)\n",
    "\n"
   ]
  },
  {
   "cell_type": "markdown",
   "metadata": {},
   "source": [
    "Assign the value of the 25th percentile for the given feature to Q1. Use np.percentile for this.\n",
    "Assign the value of the 75th percentile for the given feature to Q3. Again, use np.percentile.\n",
    "Assign the calculation of an outlier step for the given feature to step.\n",
    "Optionally remove data points from the dataset by adding indices to the outliers list."
   ]
  },
  {
   "cell_type": "code",
   "execution_count": 132,
   "metadata": {},
   "outputs": [
    {
     "name": "stdout",
     "output_type": "stream",
     "text": [
      "Q1 thresholds {'total spend': [3.9677404060726249], 'No. of purchases': [2.8332133440562162], 'Average value of purchase': [0.79750719588418817]}\n",
      "Q3 thresholds {'total spend': [5.7115265934774113], 'No. of purchases': [4.6249728132842707], 'Average value of purchase': [1.3609765531356006]}\n",
      "List of steps {'total spend': 2.6156792811071794, 'No. of purchases': 2.6876392038420818, 'Average value of purchase': 0.84520403587711868}\n",
      "list of unique outliers [514, 4, 3589, 518, 7, 8, 9, 1547, 524, 13, 2059, 4111, 3089, 1042, 19, 2067, 4114, 4118, 4122, 3099, 1051, 3101, 3102, 542, 3105, 2082, 1571, 3110, 2599, 1574, 1578, 2602, 557, 3117, 559, 48, 3629, 2615, 4156, 2622, 1090, 67, 3140, 69, 3652, 1608, 1096, 1611, 2126, 4178, 1106, 2643, 3154, 598, 604, 93, 3677, 1116, 1630, 3166, 4190, 3172, 4196, 4200, 108, 2157, 3692, 4210, 3193, 122, 2685, 1150, 1666, 132, 1669, 1668, 2181, 4231, 4232, 3211, 1165, 2702, 141, 1169, 2196, 4244, 1688, 2713, 1177, 2203, 2202, 3228, 1182, 671, 3743, 4258, 2729, 2218, 3242, 1712, 177, 2737, 4276, 181, 182, 2745, 4281, 3771, 3260, 1209, 3770, 2751, 192, 2240, 3772, 195, 196, 198, 4295, 2251, 1740, 3275, 3276, 1231, 3792, 2768, 3278, 211, 4312, 1753, 736, 1763, 2788, 2278, 232, 3820, 3311, 3823, 4335, 752, 4339, 4340, 4336, 1270, 1272, 1786, 763, 4349, 3329, 258, 2306, 3330, 3844, 2819, 1799, 2823, 3334, 3841, 4363, 1804, 1805, 2827, 2319, 1299, 3351, 3353, 285, 3357, 3359, 2336, 3364, 2854, 807, 811, 3890, 3897, 316, 2877, 1852, 831, 833, 1857, 2370, 2371, 2883, 2376, 2890, 2380, 1357, 334, 846, 2386, 2899, 342, 855, 3926, 1882, 1883, 2907, 3940, 357, 3431, 1896, 3442, 2933, 2934, 2935, 3448, 1403, 3453, 3458, 386, 1415, 3464, 905, 908, 398, 1935, 402, 915, 2962, 3477, 918, 4355, 1433, 1950, 3487, 4006, 2984, 2985, 4008, 2987, 941, 1455, 2480, 2992, 946, 3507, 1972, 4020, 2999, 3512, 3001, 1980, 1982, 4031, 3521, 450, 3522, 2500, 965, 968, 1482, 3535, 2512, 4051, 980, 1494, 1498, 3040, 1505, 3552, 3555, 2533, 1514, 2026, 3562, 3054, 1519, 1523, 4084, 1526, 1014, 2046]\n"
     ]
    }
   ],
   "source": [
    "#Create list to store outliers in\n",
    "outliers_list = []\n",
    "u_outliers = []\n",
    "q1_list = {}\n",
    "q3_list = {}\n",
    "step_list = {}\n",
    "\n",
    "#Find the 25th percentile figure for each column\n",
    "for i in range(1,4):\n",
    "    #find 25th pecentile\n",
    "    q1 = np.percentile(log_data.loc[:,column_names[i]], 25)\n",
    "    q1_list[column_names[i]] = [q1]\n",
    "    #find 75th percentile\n",
    "    q3 = np.percentile(log_data.loc[:,column_names[i]], 75)\n",
    "    q3_list[column_names[i]] = [q3]\n",
    "    #Calculate steps from IQR\n",
    "    step = 1.5*(q3-q1)\n",
    "    step_list[column_names[i]] = step\n",
    "    #Find outliers\n",
    "    outliers_rows = log_data.loc[~((log_data[column_names[i]] >= q1 - step) & (log_data[column_names[i]] <= q3 + step)), :]\n",
    "    outliers_list.append(list(outliers_rows.index))\n",
    "\n",
    "#Makes the outliers lists all one long list rather than them being separated by square brackets (d0nt understand!)\n",
    "outliers = list(itertools.chain.from_iterable(outliers_list))  \n",
    "u_outliers = list(set(outliers))\n",
    "\n",
    "print(\"Q1 thresholds\", q1_list)    \n",
    "print(\"Q3 thresholds\", q3_list)\n",
    "print(\"List of steps\", step_list)\n",
    "print(\"list of unique outliers\", u_outliers)\n",
    "\n",
    "#remove all outliers from the dataset\n",
    "good_data = log_data.drop(u_outliers)"
   ]
  },
  {
   "cell_type": "markdown",
   "metadata": {},
   "source": [
    "Now we will use k means clustering to find segments in the good_data and get a list of customer IDs for each of the segments. We will use the number of clusters with the greatest silhouette score"
   ]
  },
  {
   "cell_type": "code",
   "execution_count": 183,
   "metadata": {},
   "outputs": [
    {
     "name": "stdout",
     "output_type": "stream",
     "text": [
      "[[ 347.83379466  117.24490576    2.96665568]\n",
      " [  50.216463     17.07382497    2.94127452]]\n"
     ]
    },
    {
     "data": {
      "text/html": [
       "<div>\n",
       "<style>\n",
       "    .dataframe thead tr:only-child th {\n",
       "        text-align: right;\n",
       "    }\n",
       "\n",
       "    .dataframe thead th {\n",
       "        text-align: left;\n",
       "    }\n",
       "\n",
       "    .dataframe tbody tr th {\n",
       "        vertical-align: top;\n",
       "    }\n",
       "</style>\n",
       "<table border=\"1\" class=\"dataframe\">\n",
       "  <thead>\n",
       "    <tr style=\"text-align: right;\">\n",
       "      <th></th>\n",
       "      <th>CustomerID</th>\n",
       "      <th>total spend</th>\n",
       "      <th>No. of purchases</th>\n",
       "      <th>Average value of purchase</th>\n",
       "    </tr>\n",
       "  </thead>\n",
       "  <tbody>\n",
       "    <tr>\n",
       "      <th>count</th>\n",
       "      <td>2033.000000</td>\n",
       "      <td>2033.000000</td>\n",
       "      <td>2033.000000</td>\n",
       "      <td>2033.000000</td>\n",
       "    </tr>\n",
       "    <tr>\n",
       "      <th>mean</th>\n",
       "      <td>15275.615839</td>\n",
       "      <td>456.911654</td>\n",
       "      <td>155.371864</td>\n",
       "      <td>3.143610</td>\n",
       "    </tr>\n",
       "    <tr>\n",
       "      <th>std</th>\n",
       "      <td>1715.566560</td>\n",
       "      <td>413.975357</td>\n",
       "      <td>146.509306</td>\n",
       "      <td>1.133583</td>\n",
       "    </tr>\n",
       "    <tr>\n",
       "      <th>min</th>\n",
       "      <td>12347.000000</td>\n",
       "      <td>89.850000</td>\n",
       "      <td>28.000000</td>\n",
       "      <td>0.980000</td>\n",
       "    </tr>\n",
       "    <tr>\n",
       "      <th>25%</th>\n",
       "      <td>13798.000000</td>\n",
       "      <td>204.020000</td>\n",
       "      <td>68.000000</td>\n",
       "      <td>2.370000</td>\n",
       "    </tr>\n",
       "    <tr>\n",
       "      <th>50%</th>\n",
       "      <td>15271.000000</td>\n",
       "      <td>305.960000</td>\n",
       "      <td>105.000000</td>\n",
       "      <td>2.930000</td>\n",
       "    </tr>\n",
       "    <tr>\n",
       "      <th>75%</th>\n",
       "      <td>16768.000000</td>\n",
       "      <td>543.380000</td>\n",
       "      <td>180.000000</td>\n",
       "      <td>3.690000</td>\n",
       "    </tr>\n",
       "    <tr>\n",
       "      <th>max</th>\n",
       "      <td>18287.000000</td>\n",
       "      <td>3852.330000</td>\n",
       "      <td>1284.000000</td>\n",
       "      <td>9.050000</td>\n",
       "    </tr>\n",
       "  </tbody>\n",
       "</table>\n",
       "</div>"
      ],
      "text/plain": [
       "         CustomerID  total spend  No. of purchases  Average value of purchase\n",
       "count   2033.000000  2033.000000       2033.000000                2033.000000\n",
       "mean   15275.615839   456.911654        155.371864                   3.143610\n",
       "std     1715.566560   413.975357        146.509306                   1.133583\n",
       "min    12347.000000    89.850000         28.000000                   0.980000\n",
       "25%    13798.000000   204.020000         68.000000                   2.370000\n",
       "50%    15271.000000   305.960000        105.000000                   2.930000\n",
       "75%    16768.000000   543.380000        180.000000                   3.690000\n",
       "max    18287.000000  3852.330000       1284.000000                   9.050000"
      ]
     },
     "execution_count": 183,
     "metadata": {},
     "output_type": "execute_result"
    }
   ],
   "source": [
    "#Remove customer ID so it isnt used for the clustering\n",
    "final_data = good_data.drop('CustomerID',1)\n",
    "\n",
    "#Create clusters and apply predictions to data\n",
    "kmeans = KMeans(n_clusters=2).fit(final_data)\n",
    "preds = kmeans.predict(final_data)\n",
    "kmeans.labels_\n",
    "score = silhouette_score(final_data, preds, metric='euclidean')\n",
    "centers = kmeans.cluster_centers_\n",
    "\n",
    "true_centers = np.exp(centers)\n",
    "print(true_centers)\n",
    "\n",
    "#Get the indices for the 2 segments\n",
    "segment_1_index = np.where(preds == 0)\n",
    "segment_2_index = np.where(preds == 1)\n",
    "\n",
    "segment_1_customer_list = good_data.iloc[segment_1_index]\n",
    "segment_1_customers = np.exp(segment_1_customer_list)\n",
    "\n",
    "segment_2_customer_list = good_data.iloc[segment_2_index]\n",
    "segment_2_customers = np.exp(segment_2_customer_list)\n",
    "\n",
    "segment_1_customers.describe()"
   ]
  },
  {
   "cell_type": "code",
   "execution_count": 185,
   "metadata": {},
   "outputs": [
    {
     "data": {
      "text/html": [
       "<div>\n",
       "<style>\n",
       "    .dataframe thead tr:only-child th {\n",
       "        text-align: right;\n",
       "    }\n",
       "\n",
       "    .dataframe thead th {\n",
       "        text-align: left;\n",
       "    }\n",
       "\n",
       "    .dataframe tbody tr th {\n",
       "        vertical-align: top;\n",
       "    }\n",
       "</style>\n",
       "<table border=\"1\" class=\"dataframe\">\n",
       "  <thead>\n",
       "    <tr style=\"text-align: right;\">\n",
       "      <th></th>\n",
       "      <th>CustomerID</th>\n",
       "      <th>total spend</th>\n",
       "      <th>No. of purchases</th>\n",
       "      <th>Average value of purchase</th>\n",
       "    </tr>\n",
       "  </thead>\n",
       "  <tbody>\n",
       "    <tr>\n",
       "      <th>count</th>\n",
       "      <td>2065.000000</td>\n",
       "      <td>2065.000000</td>\n",
       "      <td>2065.000000</td>\n",
       "      <td>2065.000000</td>\n",
       "    </tr>\n",
       "    <tr>\n",
       "      <th>mean</th>\n",
       "      <td>15323.720581</td>\n",
       "      <td>64.151720</td>\n",
       "      <td>21.308959</td>\n",
       "      <td>3.260305</td>\n",
       "    </tr>\n",
       "    <tr>\n",
       "      <th>std</th>\n",
       "      <td>1712.606720</td>\n",
       "      <td>39.778217</td>\n",
       "      <td>12.773308</td>\n",
       "      <td>1.520408</td>\n",
       "    </tr>\n",
       "    <tr>\n",
       "      <th>min</th>\n",
       "      <td>12348.000000</td>\n",
       "      <td>4.050000</td>\n",
       "      <td>2.000000</td>\n",
       "      <td>0.960000</td>\n",
       "    </tr>\n",
       "    <tr>\n",
       "      <th>25%</th>\n",
       "      <td>13859.000000</td>\n",
       "      <td>31.050000</td>\n",
       "      <td>11.000000</td>\n",
       "      <td>2.120000</td>\n",
       "    </tr>\n",
       "    <tr>\n",
       "      <th>50%</th>\n",
       "      <td>15325.000000</td>\n",
       "      <td>58.350000</td>\n",
       "      <td>20.000000</td>\n",
       "      <td>2.950000</td>\n",
       "    </tr>\n",
       "    <tr>\n",
       "      <th>75%</th>\n",
       "      <td>16778.000000</td>\n",
       "      <td>92.510000</td>\n",
       "      <td>30.000000</td>\n",
       "      <td>4.020000</td>\n",
       "    </tr>\n",
       "    <tr>\n",
       "      <th>max</th>\n",
       "      <td>18282.000000</td>\n",
       "      <td>203.450000</td>\n",
       "      <td>67.000000</td>\n",
       "      <td>8.990000</td>\n",
       "    </tr>\n",
       "  </tbody>\n",
       "</table>\n",
       "</div>"
      ],
      "text/plain": [
       "         CustomerID  total spend  No. of purchases  Average value of purchase\n",
       "count   2065.000000  2065.000000       2065.000000                2065.000000\n",
       "mean   15323.720581    64.151720         21.308959                   3.260305\n",
       "std     1712.606720    39.778217         12.773308                   1.520408\n",
       "min    12348.000000     4.050000          2.000000                   0.960000\n",
       "25%    13859.000000    31.050000         11.000000                   2.120000\n",
       "50%    15325.000000    58.350000         20.000000                   2.950000\n",
       "75%    16778.000000    92.510000         30.000000                   4.020000\n",
       "max    18282.000000   203.450000         67.000000                   8.990000"
      ]
     },
     "execution_count": 185,
     "metadata": {},
     "output_type": "execute_result"
    }
   ],
   "source": [
    "segment_2_customers.describe()"
   ]
  },
  {
   "cell_type": "code",
   "execution_count": null,
   "metadata": {
    "collapsed": true
   },
   "outputs": [],
   "source": []
  }
 ],
 "metadata": {
  "kernelspec": {
   "display_name": "Python 3",
   "language": "python",
   "name": "python3"
  },
  "language_info": {
   "codemirror_mode": {
    "name": "ipython",
    "version": 3
   },
   "file_extension": ".py",
   "mimetype": "text/x-python",
   "name": "python",
   "nbconvert_exporter": "python",
   "pygments_lexer": "ipython3",
   "version": "3.6.3"
  }
 },
 "nbformat": 4,
 "nbformat_minor": 2
}
